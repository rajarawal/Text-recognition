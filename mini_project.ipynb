{
 "cells": [
  {
   "cell_type": "code",
   "execution_count": 1,
   "metadata": {},
   "outputs": [],
   "source": [
    "import cv2\n",
    "import numpy as np\n",
    "import matplotlib.pyplot as plt"
   ]
  },
  {
   "cell_type": "code",
   "execution_count": 2,
   "metadata": {},
   "outputs": [],
   "source": [
    "def display(info, img):\n",
    "    cv2.imshow(info,img)\n",
    "    cv2.waitKey(0)\n",
    "    cv2.destroyAllWindows()"
   ]
  },
  {
   "cell_type": "code",
   "execution_count": 12,
   "metadata": {},
   "outputs": [],
   "source": [
    "img = cv2.imread('sample4.jpg')\n",
    "gray = cv2.cvtColor(img,cv2.COLOR_BGR2GRAY)\n",
    "display(\"img\",gray)"
   ]
  },
  {
   "cell_type": "code",
   "execution_count": 13,
   "metadata": {},
   "outputs": [],
   "source": [
    "mask = np.zeros((gray.shape),np.uint8)\n",
    "kernel1 = cv2.getStructuringElement(cv2.MORPH_ELLIPSE,(13,13))\n",
    "close = cv2.morphologyEx(gray,cv2.MORPH_CLOSE,kernel1)\n",
    "div = np.float32(gray)/(close)\n",
    "res = np.uint8(cv2.normalize(div,div,0,255,cv2.NORM_MINMAX))"
   ]
  },
  {
   "cell_type": "code",
   "execution_count": 14,
   "metadata": {},
   "outputs": [],
   "source": [
    "display(\"response\",res)"
   ]
  },
  {
   "cell_type": "code",
   "execution_count": 15,
   "metadata": {},
   "outputs": [],
   "source": [
    "thresh = cv2.adaptiveThreshold(res,255,0,1,19,2)\n",
    "contour,hier = cv2.findContours(thresh,cv2.RETR_TREE,cv2.CHAIN_APPROX_SIMPLE)\n",
    "max_area = 0\n",
    "best_cnt = None\n",
    "for cnt in contour:\n",
    "    area = cv2.contourArea(cnt)\n",
    "    if area > 1000:\n",
    "        if area > max_area:\n",
    "            max_area = area\n",
    "            best_cnt = cnt\n",
    "cv2.drawContours(mask,[best_cnt],0,255,-1)\n",
    "cv2.drawContours(mask,[best_cnt],0,0,2)\n",
    "res = cv2.bitwise_and(res,mask)"
   ]
  },
  {
   "cell_type": "code",
   "execution_count": 16,
   "metadata": {},
   "outputs": [],
   "source": [
    "thresh = cv2.adaptiveThreshold(res,255,0,1,19,2)\n",
    "contour,hier = cv2.findContours(thresh,cv2.RETR_TREE,cv2.CHAIN_APPROX_SIMPLE)\n",
    "max_area = 0\n",
    "best_cnt = None\n",
    "for cnt in contour:\n",
    "    area = cv2.contourArea(cnt)\n",
    "    if area >150 and area < 800:\n",
    "        if area > max_area:\n",
    "            max_area = area\n",
    "            best_cnt = cnt\n",
    "cv2.drawContours(mask,[best_cnt],0,255,-1)\n",
    "cv2.drawContours(mask,[best_cnt],0,0,2)\n",
    "res = cv2.bitwise_and(res,mask)\n",
    "display(\";lkgnjl\",res)"
   ]
  },
  {
   "cell_type": "code",
   "execution_count": 17,
   "metadata": {},
   "outputs": [
    {
     "name": "stdout",
     "output_type": "stream",
     "text": [
      "(13, 164, 540, 770)\n"
     ]
    },
    {
     "data": {
      "text/plain": [
       "True"
      ]
     },
     "execution_count": 17,
     "metadata": {},
     "output_type": "execute_result"
    }
   ],
   "source": [
    "bbox = cv2.boundingRect(res)\n",
    "x, y, w, h = bbox\n",
    "print(bbox)\n",
    "preproccessed_img= res[y:y+h, x:x+w]\n",
    "display(\"fore img\",preproccessed_img)\n",
    "cv2.imwrite(\"final.jpg\",preproccessed_img)"
   ]
  },
  {
   "cell_type": "code",
   "execution_count": null,
   "metadata": {},
   "outputs": [],
   "source": []
  },
  {
   "cell_type": "code",
   "execution_count": null,
   "metadata": {},
   "outputs": [],
   "source": []
  },
  {
   "cell_type": "code",
   "execution_count": null,
   "metadata": {},
   "outputs": [],
   "source": []
  },
  {
   "cell_type": "code",
   "execution_count": null,
   "metadata": {},
   "outputs": [],
   "source": []
  },
  {
   "cell_type": "code",
   "execution_count": null,
   "metadata": {},
   "outputs": [],
   "source": []
  },
  {
   "cell_type": "code",
   "execution_count": null,
   "metadata": {},
   "outputs": [],
   "source": []
  },
  {
   "cell_type": "code",
   "execution_count": null,
   "metadata": {},
   "outputs": [],
   "source": []
  },
  {
   "cell_type": "code",
   "execution_count": null,
   "metadata": {},
   "outputs": [],
   "source": []
  },
  {
   "cell_type": "code",
   "execution_count": null,
   "metadata": {},
   "outputs": [],
   "source": [
    "#display(\"final image\",)"
   ]
  },
  {
   "cell_type": "code",
   "execution_count": null,
   "metadata": {},
   "outputs": [],
   "source": [
    "plt.imshow(res,\"gray\")"
   ]
  },
  {
   "cell_type": "code",
   "execution_count": null,
   "metadata": {},
   "outputs": [],
   "source": []
  },
  {
   "cell_type": "code",
   "execution_count": null,
   "metadata": {},
   "outputs": [],
   "source": []
  },
  {
   "cell_type": "code",
   "execution_count": null,
   "metadata": {},
   "outputs": [],
   "source": []
  },
  {
   "cell_type": "code",
   "execution_count": null,
   "metadata": {},
   "outputs": [],
   "source": []
  },
  {
   "cell_type": "code",
   "execution_count": null,
   "metadata": {},
   "outputs": [],
   "source": []
  },
  {
   "cell_type": "code",
   "execution_count": null,
   "metadata": {},
   "outputs": [],
   "source": [
    "res_hough = res.copy()"
   ]
  },
  {
   "cell_type": "code",
   "execution_count": null,
   "metadata": {},
   "outputs": [],
   "source": [
    "from scipy.interpolate import griddata\n",
    "grid_x, grid_y = np.mgrid[0:149:150j, 0:149:150j]\n",
    "destination = np.array([[0,0], [0,49], [0,99], [0,149],\n",
    "                  [49,0],[49,49],[49,99],[49,149],\n",
    "                  [99,0],[99,49],[99,99],[99,149],\n",
    "                  [149,0],[149,49],[149,99],[149,149]])\n",
    "source = np.array([[22,22], [24,68], [26,116], [25,162],\n",
    "                  [64,19],[65,64],[65,114],[64,159],\n",
    "                  [107,16],[108,62],[108,111],[107,157],\n",
    "                  [151,11],[151,58],[151,107],[151,156]])\n",
    "grid_z = griddata(destination, source, (grid_x, grid_y), method='cubic')\n",
    "map_x = np.append([], [ar[:,1] for ar in grid_z]).reshape(150,150)\n",
    "map_y = np.append([], [ar[:,0] for ar in grid_z]).reshape(150,150)\n",
    "map_x_32 = map_x.astype('float32')\n",
    "map_y_32 = map_y.astype('float32')\n",
    "warped = cv2.remap(res_hough, map_x_32, map_y_32, cv2.INTER_CUBIC)"
   ]
  },
  {
   "cell_type": "code",
   "execution_count": null,
   "metadata": {},
   "outputs": [],
   "source": [
    "display(\"warped img\",warped)"
   ]
  },
  {
   "cell_type": "code",
   "execution_count": null,
   "metadata": {},
   "outputs": [],
   "source": []
  },
  {
   "cell_type": "code",
   "execution_count": null,
   "metadata": {},
   "outputs": [],
   "source": []
  },
  {
   "cell_type": "code",
   "execution_count": null,
   "metadata": {},
   "outputs": [],
   "source": [
    "edges = cv2.Canny(res,50,150,apertureSize= 3)"
   ]
  },
  {
   "cell_type": "code",
   "execution_count": null,
   "metadata": {},
   "outputs": [],
   "source": [
    "display(\"egdes\",edges)"
   ]
  },
  {
   "cell_type": "code",
   "execution_count": null,
   "metadata": {},
   "outputs": [],
   "source": [
    "lines = cv2.HoughLines(edges , 1,np.pi/180 , 200)"
   ]
  },
  {
   "cell_type": "code",
   "execution_count": null,
   "metadata": {},
   "outputs": [],
   "source": [
    "for line in lines:\n",
    "    rho,theta = line[0]\n",
    "    a = np.cos(theta)\n",
    "    b = np.sin(theta)\n",
    "    x0 = a * rho\n",
    "    y0 = b * rho\n",
    "    x1 = int(x0 + 1000 *(-b))\n",
    "    y1 = int(y0 + 100 *(a))\n",
    "    x2 = int(x0 - 1000 *(-b))\n",
    "    y2 = int(y0 - 100 *(a))\n",
    "    cv2.line(res,(x1,y1),(x2,y2),(0,0,255),2)"
   ]
  },
  {
   "cell_type": "code",
   "execution_count": null,
   "metadata": {},
   "outputs": [],
   "source": [
    "display(\"hough img\",res)"
   ]
  },
  {
   "cell_type": "code",
   "execution_count": null,
   "metadata": {},
   "outputs": [],
   "source": []
  },
  {
   "cell_type": "code",
   "execution_count": null,
   "metadata": {},
   "outputs": [],
   "source": []
  },
  {
   "cell_type": "code",
   "execution_count": null,
   "metadata": {},
   "outputs": [],
   "source": []
  },
  {
   "cell_type": "code",
   "execution_count": null,
   "metadata": {},
   "outputs": [],
   "source": []
  },
  {
   "cell_type": "code",
   "execution_count": null,
   "metadata": {},
   "outputs": [],
   "source": []
  },
  {
   "cell_type": "code",
   "execution_count": null,
   "metadata": {},
   "outputs": [],
   "source": []
  },
  {
   "cell_type": "code",
   "execution_count": null,
   "metadata": {},
   "outputs": [],
   "source": []
  },
  {
   "cell_type": "code",
   "execution_count": null,
   "metadata": {},
   "outputs": [],
   "source": []
  },
  {
   "cell_type": "code",
   "execution_count": null,
   "metadata": {},
   "outputs": [],
   "source": []
  },
  {
   "cell_type": "code",
   "execution_count": null,
   "metadata": {},
   "outputs": [],
   "source": []
  },
  {
   "cell_type": "code",
   "execution_count": null,
   "metadata": {},
   "outputs": [],
   "source": []
  },
  {
   "cell_type": "code",
   "execution_count": null,
   "metadata": {},
   "outputs": [],
   "source": [
    "import cv2\n",
    "import numpy as np"
   ]
  },
  {
   "cell_type": "code",
   "execution_count": null,
   "metadata": {},
   "outputs": [],
   "source": [
    "img = cv2.imread('sample2.jpg')\n",
    "img = cv2.GaussianBlur(img,(5,5),0)\n",
    "gray = cv2.cvtColor(img,cv2.COLOR_BGR2GRAY)\n",
    "mask = np.zeros((gray.shape),np.uint8)\n",
    "kernel1 = cv2.getStructuringElement(cv2.MORPH_ELLIPSE,(11,11))\n",
    "close = cv2.morphologyEx(gray,cv2.MORPH_CLOSE,kernel1)\n",
    "div = np.float32(gray)/(close)\n",
    "res = np.uint8(cv2.normalize(div,div,0,255,cv2.NORM_MINMAX))\n",
    "res2 = cv2.cvtColor(res,cv2.COLOR_GRAY2BGR)"
   ]
  },
  {
   "cell_type": "code",
   "execution_count": null,
   "metadata": {},
   "outputs": [],
   "source": [
    "thresh = cv2.adaptiveThreshold(res,255,0,1,19,2)\n",
    "contour,hier = cv2.findContours(thresh,cv2.RETR_TREE,cv2.CHAIN_APPROX_SIMPLE)\n",
    "max_area = 0\n",
    "best_cnt = None\n",
    "for cnt in contour:\n",
    "    area = cv2.contourArea(cnt)\n",
    "    if area > 1000:\n",
    "        if area > max_area:\n",
    "            max_area = area\n",
    "            best_cnt = cnt\n",
    "\n",
    "cv2.drawContours(mask,[best_cnt],0,255,-1)\n",
    "cv2.drawContours(mask,[best_cnt],0,0,2)\n",
    "res = cv2.bitwise_and(res,mask)"
   ]
  },
  {
   "cell_type": "code",
   "execution_count": null,
   "metadata": {},
   "outputs": [],
   "source": [
    "cv2.imshow(\"img\",res)\n",
    "cv2.waitKey(0)\n",
    "cv2.destroyAllWindows()"
   ]
  },
  {
   "cell_type": "code",
   "execution_count": null,
   "metadata": {},
   "outputs": [],
   "source": []
  },
  {
   "cell_type": "code",
   "execution_count": null,
   "metadata": {},
   "outputs": [],
   "source": [
    "#finding vertical lines"
   ]
  },
  {
   "cell_type": "code",
   "execution_count": null,
   "metadata": {},
   "outputs": [],
   "source": [
    "kernelx = cv2.getStructuringElement(cv2.MORPH_RECT,(2,10))\n",
    "\n",
    "dx = cv2.Sobel(res,cv2.CV_16S,1,0)\n",
    "dx = cv2.convertScaleAbs(dx)\n",
    "cv2.normalize(dx,dx,0,255,cv2.NORM_MINMAX)\n",
    "ret,close = cv2.threshold(dx,0,255,cv2.THRESH_BINARY+cv2.THRESH_OTSU)\n",
    "close = cv2.morphologyEx(close,cv2.MORPH_DILATE,kernelx,iterations = 1)\n",
    "\n",
    "contour, hier = cv2.findContours(close,cv2.RETR_EXTERNAL,cv2.CHAIN_APPROX_SIMPLE)\n",
    "for cnt in contour:\n",
    "    x,y,w,h = cv2.boundingRect(cnt)\n",
    "    if h/w > 5:\n",
    "        cv2.drawContours(close,[cnt],0,255,-1)\n",
    "    else:\n",
    "        cv2.drawContours(close,[cnt],0,0,-1)\n",
    "close = cv2.morphologyEx(close,cv2.MORPH_CLOSE,None,iterations = 2)\n",
    "closex = close.copy()"
   ]
  },
  {
   "cell_type": "code",
   "execution_count": null,
   "metadata": {},
   "outputs": [],
   "source": [
    "#finding horizontal line\n",
    "kernely = cv2.getStructuringElement(cv2.MORPH_RECT,(10,2))\n",
    "dy = cv2.Sobel(res,cv2.CV_16S,0,2)\n",
    "dy = cv2.convertScaleAbs(dy)\n",
    "cv2.normalize(dy,dy,0,255,cv2.NORM_MINMAX)\n",
    "ret,close = cv2.threshold(dy,0,255,cv2.THRESH_BINARY+cv2.THRESH_OTSU)\n",
    "close = cv2.morphologyEx(close,cv2.MORPH_DILATE,kernely)\n",
    "\n",
    "contour, hier = cv2.findContours(close,cv2.RETR_EXTERNAL,cv2.CHAIN_APPROX_SIMPLE)\n",
    "for cnt in contour:\n",
    "    x,y,w,h = cv2.boundingRect(cnt)\n",
    "    if w/h > 5:\n",
    "        cv2.drawContours(close,[cnt],0,255,-1)\n",
    "    else:\n",
    "        cv2.drawContours(close,[cnt],0,0,-1)\n",
    "\n",
    "close = cv2.morphologyEx(close,cv2.MORPH_DILATE,None,iterations = 2)\n",
    "closey = close.copy()"
   ]
  },
  {
   "cell_type": "code",
   "execution_count": null,
   "metadata": {},
   "outputs": [],
   "source": [
    "res = cv2.bitwise_and(closex,closey)"
   ]
  },
  {
   "cell_type": "code",
   "execution_count": null,
   "metadata": {},
   "outputs": [],
   "source": [
    "cv2.imshow(\"img\",res)\n",
    "cv2.waitKey(0)\n",
    "cv2.destroyAllWindows()"
   ]
  },
  {
   "cell_type": "code",
   "execution_count": null,
   "metadata": {},
   "outputs": [],
   "source": [
    "#correcting the defect\n",
    "contour, hier = cv2.findContours(res,cv2.RETR_LIST,cv2.CHAIN_APPROX_SIMPLE)\n",
    "centroids = []\n",
    "for cnt in contour:\n",
    "    mom = cv2.moments(cnt)\n",
    "    (x,y) = int(mom['m10']/mom['m00']), int(mom['m01']/mom['m00'])\n",
    "    cv2.circle(img,(x,y),4,(0,255,0),-1)\n",
    "    centroids.append((x,y))"
   ]
  },
  {
   "cell_type": "code",
   "execution_count": null,
   "metadata": {},
   "outputs": [],
   "source": [
    "centroids = np.array(centroids,dtype = np.float32)\n",
    "c = centroids.reshape((210,2))\n",
    "c2 = c[np.argsort(c[:,1])]\n",
    "\n",
    "b = np.vstack([c2[i*10:(i+1)*10][np.argsort(c2[i*10:(i+1)*10,0])] for i in xrange(10)])\n",
    "bm = b.reshape((10,10,2))"
   ]
  },
  {
   "cell_type": "code",
   "execution_count": null,
   "metadata": {},
   "outputs": [],
   "source": [
    "output = np.zeros((450,450,3),np.uint8)\n",
    "for i,j in enumerate(b):\n",
    "    ri = i/10\n",
    "    ci = i%10\n",
    "    if ci != 9 and ri!=9:\n",
    "        src = bm[ri:ri+2, ci:ci+2 , :].reshape((4,2))\n",
    "        dst = np.array( [ [ci*50,ri*50],[(ci+1)*50-1,ri*50],[ci*50,(ri+1)*50-1],[(ci+1)*50-1,(ri+1)*50-1] ], np.float32)\n",
    "        retval = cv2.getPerspectiveTransform(src,dst)\n",
    "        warp = cv2.warpPerspective(res2,retval,(450,450))\n",
    "        output[ri*50:(ri+1)*50-1 , ci*50:(ci+1)*50-1] = warp[ri*50:(ri+1)*50-1 , ci*50:(ci+1)*50-1].copy()"
   ]
  },
  {
   "cell_type": "code",
   "execution_count": null,
   "metadata": {},
   "outputs": [],
   "source": [
    "cv2.imshow(\"img\",output)\n",
    "cv2.waitKey(0)\n",
    "cv2.destroyAllWindows()"
   ]
  },
  {
   "cell_type": "code",
   "execution_count": null,
   "metadata": {},
   "outputs": [],
   "source": []
  }
 ],
 "metadata": {
  "kernelspec": {
   "display_name": "Python 3",
   "language": "python",
   "name": "python3"
  },
  "language_info": {
   "codemirror_mode": {
    "name": "ipython",
    "version": 3
   },
   "file_extension": ".py",
   "mimetype": "text/x-python",
   "name": "python",
   "nbconvert_exporter": "python",
   "pygments_lexer": "ipython3",
   "version": "3.6.8"
  }
 },
 "nbformat": 4,
 "nbformat_minor": 2
}
